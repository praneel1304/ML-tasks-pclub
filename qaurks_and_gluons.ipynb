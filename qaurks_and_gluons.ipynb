{
  "cells": [
    {
      "cell_type": "markdown",
      "metadata": {
        "id": "view-in-github",
        "colab_type": "text"
      },
      "source": [
        "<a href=\"https://colab.research.google.com/github/praneel1304/ML-tasks-pclub/blob/main/qaurks_and_gluons.ipynb\" target=\"_parent\"><img src=\"https://colab.research.google.com/assets/colab-badge.svg\" alt=\"Open In Colab\"/></a>"
      ]
    },
    {
      "cell_type": "code",
      "execution_count": null,
      "metadata": {
        "id": "jwATOR7R-dYo"
      },
      "outputs": [],
      "source": [
        "from tensorflow import keras\n",
        "from tensorflow.keras import layers\n",
        "from tensorflow.keras.layers import Dense\n",
        "import warnings\n",
        "warnings.filterwarnings('ignore')"
      ]
    },
    {
      "cell_type": "markdown",
      "source": [
        "### **data preprocessing i removed zero inputs and 135 jetts ka mean liya"
      ],
      "metadata": {
        "id": "-4JJp_oosf1Y"
      }
    },
    {
      "cell_type": "code",
      "execution_count": null,
      "metadata": {
        "id": "1uNNEpfB1Xue",
        "colab": {
          "base_uri": "https://localhost:8080/"
        },
        "outputId": "4c67e5a1-4ca5-4e38-e346-04e14d2a1be8"
      },
      "outputs": [
        {
          "output_type": "stream",
          "name": "stdout",
          "text": [
            "                   0              1              2              3\n",
            "count  100000.000000  100000.000000  100000.000000  100000.000000\n",
            "mean       14.555469       0.002639       3.134985      16.109122\n",
            "std         7.513120       0.868817       1.817789      37.138981\n",
            "min         3.729497      -1.776905      -0.105090    -398.200000\n",
            "25%         9.562714      -0.690738       1.550650       3.557692\n",
            "50%        12.661868       0.004182       3.131760      14.285714\n",
            "75%        17.729266       0.694574       4.707142      26.216510\n",
            "max       533.800268       1.814837       6.367013     373.000000\n"
          ]
        }
      ],
      "source": [
        "import numpy as np\n",
        "import pandas as pd\n",
        "import plotly.express as plt\n",
        "from sklearn.model_selection import train_test_split\n",
        "from sklearn.metrics import accuracy_score\n",
        "import pandas as pd\n",
        "import numpy as np\n",
        "\n",
        "df=np.load('/content/QG_jets.npz')\n",
        "inputs=df['X']\n",
        "njets=100000\n",
        "inputs=inputs[:njets]\n",
        "in_f=[]\n",
        "\n",
        "X=np.zeros((len(inputs),4))\n",
        "for i in range(len(inputs)):\n",
        "  mask = ~(inputs[i] == 0).all(axis=1)\n",
        "  in_f=(inputs[i][mask])\n",
        "  X[i][0]=np.mean(in_f[:,0])\n",
        "  X[i][1]=np.mean(in_f[:,1])\n",
        "  X[i][2]=np.mean(in_f[:,2])\n",
        "  X[i][3]=np.mean(in_f[:,3])\n",
        "inputs=X\n",
        "Y = df['y']\n",
        "\n",
        "X = pd.DataFrame(X)\n",
        "X_train, X_test, Y_train, Y_test = train_test_split(X, Y , test_size=0.2, random_state=1)\n",
        "print(X.describe())"
      ]
    },
    {
      "cell_type": "markdown",
      "source": [
        "###This is a basic neural network with accuracy 77%"
      ],
      "metadata": {
        "id": "wVjWbaZitbiG"
      }
    },
    {
      "cell_type": "code",
      "execution_count": null,
      "metadata": {
        "id": "-Xknp_12Cj2y"
      },
      "outputs": [],
      "source": [
        "model = keras.models.Sequential()\n",
        "model.add(Dense(units=4, activation='relu', input_dim=len(X_train.columns)))\n",
        "model.add(Dense(units=64, activation='relu'))\n",
        "model.add(Dense(units=48, activation='relu'))\n",
        "model.add(Dense(units=24, activation='relu'))\n",
        "model.add(Dense(units=1, activation='sigmoid'))"
      ]
    },
    {
      "cell_type": "code",
      "execution_count": null,
      "metadata": {
        "colab": {
          "base_uri": "https://localhost:8080/"
        },
        "id": "0-alSGEJCmVo",
        "outputId": "04232b01-f5c7-4c7b-e93d-fe968541c3bc"
      },
      "outputs": [
        {
          "output_type": "stream",
          "name": "stdout",
          "text": [
            "Epoch 1/15\n",
            "\u001b[1m320/320\u001b[0m \u001b[32m━━━━━━━━━━━━━━━━━━━━\u001b[0m\u001b[37m\u001b[0m \u001b[1m3s\u001b[0m 3ms/step - accuracy: 0.6634 - loss: 0.5953 - val_accuracy: 0.7556 - val_loss: 0.5170\n",
            "Epoch 2/15\n",
            "\u001b[1m320/320\u001b[0m \u001b[32m━━━━━━━━━━━━━━━━━━━━\u001b[0m\u001b[37m\u001b[0m \u001b[1m1s\u001b[0m 3ms/step - accuracy: 0.7565 - loss: 0.5076 - val_accuracy: 0.7603 - val_loss: 0.5083\n",
            "Epoch 3/15\n",
            "\u001b[1m320/320\u001b[0m \u001b[32m━━━━━━━━━━━━━━━━━━━━\u001b[0m\u001b[37m\u001b[0m \u001b[1m1s\u001b[0m 3ms/step - accuracy: 0.7614 - loss: 0.5022 - val_accuracy: 0.7655 - val_loss: 0.4994\n",
            "Epoch 4/15\n",
            "\u001b[1m320/320\u001b[0m \u001b[32m━━━━━━━━━━━━━━━━━━━━\u001b[0m\u001b[37m\u001b[0m \u001b[1m1s\u001b[0m 3ms/step - accuracy: 0.7639 - loss: 0.4981 - val_accuracy: 0.7613 - val_loss: 0.5012\n",
            "Epoch 5/15\n",
            "\u001b[1m320/320\u001b[0m \u001b[32m━━━━━━━━━━━━━━━━━━━━\u001b[0m\u001b[37m\u001b[0m \u001b[1m1s\u001b[0m 2ms/step - accuracy: 0.7679 - loss: 0.4933 - val_accuracy: 0.7653 - val_loss: 0.4998\n",
            "Epoch 6/15\n",
            "\u001b[1m320/320\u001b[0m \u001b[32m━━━━━━━━━━━━━━━━━━━━\u001b[0m\u001b[37m\u001b[0m \u001b[1m1s\u001b[0m 3ms/step - accuracy: 0.7676 - loss: 0.4917 - val_accuracy: 0.7657 - val_loss: 0.4973\n",
            "Epoch 7/15\n",
            "\u001b[1m320/320\u001b[0m \u001b[32m━━━━━━━━━━━━━━━━━━━━\u001b[0m\u001b[37m\u001b[0m \u001b[1m1s\u001b[0m 4ms/step - accuracy: 0.7662 - loss: 0.4930 - val_accuracy: 0.7667 - val_loss: 0.4984\n",
            "Epoch 8/15\n",
            "\u001b[1m320/320\u001b[0m \u001b[32m━━━━━━━━━━━━━━━━━━━━\u001b[0m\u001b[37m\u001b[0m \u001b[1m1s\u001b[0m 4ms/step - accuracy: 0.7687 - loss: 0.4924 - val_accuracy: 0.7663 - val_loss: 0.4963\n",
            "Epoch 9/15\n",
            "\u001b[1m320/320\u001b[0m \u001b[32m━━━━━━━━━━━━━━━━━━━━\u001b[0m\u001b[37m\u001b[0m \u001b[1m2s\u001b[0m 2ms/step - accuracy: 0.7632 - loss: 0.4958 - val_accuracy: 0.7644 - val_loss: 0.4975\n",
            "Epoch 10/15\n",
            "\u001b[1m320/320\u001b[0m \u001b[32m━━━━━━━━━━━━━━━━━━━━\u001b[0m\u001b[37m\u001b[0m \u001b[1m1s\u001b[0m 2ms/step - accuracy: 0.7677 - loss: 0.4913 - val_accuracy: 0.7673 - val_loss: 0.4961\n",
            "Epoch 11/15\n",
            "\u001b[1m320/320\u001b[0m \u001b[32m━━━━━━━━━━━━━━━━━━━━\u001b[0m\u001b[37m\u001b[0m \u001b[1m1s\u001b[0m 3ms/step - accuracy: 0.7674 - loss: 0.4927 - val_accuracy: 0.7674 - val_loss: 0.4957\n",
            "Epoch 12/15\n",
            "\u001b[1m320/320\u001b[0m \u001b[32m━━━━━━━━━━━━━━━━━━━━\u001b[0m\u001b[37m\u001b[0m \u001b[1m1s\u001b[0m 2ms/step - accuracy: 0.7693 - loss: 0.4877 - val_accuracy: 0.7656 - val_loss: 0.4971\n",
            "Epoch 13/15\n",
            "\u001b[1m320/320\u001b[0m \u001b[32m━━━━━━━━━━━━━━━━━━━━\u001b[0m\u001b[37m\u001b[0m \u001b[1m1s\u001b[0m 2ms/step - accuracy: 0.7690 - loss: 0.4901 - val_accuracy: 0.7660 - val_loss: 0.4963\n",
            "Epoch 14/15\n",
            "\u001b[1m320/320\u001b[0m \u001b[32m━━━━━━━━━━━━━━━━━━━━\u001b[0m\u001b[37m\u001b[0m \u001b[1m1s\u001b[0m 3ms/step - accuracy: 0.7647 - loss: 0.4925 - val_accuracy: 0.7656 - val_loss: 0.4994\n",
            "Epoch 15/15\n",
            "\u001b[1m320/320\u001b[0m \u001b[32m━━━━━━━━━━━━━━━━━━━━\u001b[0m\u001b[37m\u001b[0m \u001b[1m1s\u001b[0m 2ms/step - accuracy: 0.7690 - loss: 0.4908 - val_accuracy: 0.7653 - val_loss: 0.4981\n",
            "\u001b[1m625/625\u001b[0m \u001b[32m━━━━━━━━━━━━━━━━━━━━\u001b[0m\u001b[37m\u001b[0m \u001b[1m1s\u001b[0m 1ms/step - accuracy: 0.7702 - loss: 0.4942\n",
            "\u001b[1m625/625\u001b[0m \u001b[32m━━━━━━━━━━━━━━━━━━━━\u001b[0m\u001b[37m\u001b[0m \u001b[1m1s\u001b[0m 1ms/step\n"
          ]
        }
      ],
      "source": [
        "\n",
        "model.compile(loss='binary_crossentropy', optimizer='adam', metrics=['accuracy'])\n",
        "history = model.fit(X_train, Y_train, epochs=15, batch_size=200, validation_split=0.2)\n",
        "loss, accuracy = model.evaluate(X_test, Y_test)\n",
        "y_pred = model.predict(X_test)\n"
      ]
    },
    {
      "cell_type": "code",
      "source": [
        "from sklearn.ensemble import AdaBoostClassifier\n",
        "\n",
        "ada = AdaBoostClassifier(n_estimators=50)\n",
        "ada.fit(X_train, Y_train)\n",
        "y_pred = ada.predict(X_test)\n",
        "accuracy = accuracy_score(Y_test, y_pred)\n",
        "print(f\" Accuracy: {accuracy}\")\n"
      ],
      "metadata": {
        "colab": {
          "base_uri": "https://localhost:8080/"
        },
        "id": "fIH4tsOEE9Lb",
        "outputId": "afc7c944-d91c-45cf-a215-b321df3cc41a"
      },
      "execution_count": null,
      "outputs": [
        {
          "output_type": "stream",
          "name": "stdout",
          "text": [
            " Accuracy: 0.7646\n"
          ]
        }
      ]
    },
    {
      "cell_type": "markdown",
      "metadata": {
        "id": "RBOrZRfJcUw6"
      },
      "source": []
    }
  ],
  "metadata": {
    "accelerator": "TPU",
    "colab": {
      "gpuType": "V28",
      "provenance": [],
      "authorship_tag": "ABX9TyPO4o8D/+AJHREqmrH6Zg0J",
      "include_colab_link": true
    },
    "kernelspec": {
      "display_name": "Python 3",
      "name": "python3"
    },
    "language_info": {
      "name": "python"
    }
  },
  "nbformat": 4,
  "nbformat_minor": 0
}